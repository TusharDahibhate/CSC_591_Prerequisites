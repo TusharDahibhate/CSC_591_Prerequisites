{
 "cells": [
  {
   "cell_type": "markdown",
   "metadata": {},
   "source": [
    "# Dictionaries"
   ]
  },
  {
   "cell_type": "markdown",
   "metadata": {},
   "source": [
    "Dictionary is a immutable collection of key-value pairs with unique keys.\n",
    "The keys are stored in insertion order.\n",
    "No duplicate keys\n",
    "Keys must be hashable\n",
    "Keys can be heterogeneous hashable types\n",
    "\n",
    "<br>\n",
    "Dictionary is a highly optimized data structure.\n",
    "Designed mainly for fast lookup and retrieval operations."
   ]
  },
  {
   "cell_type": "markdown",
   "metadata": {},
   "source": [
    "Dictionaries are optimized for :\n",
    "- By key value lookups\n",
    "- By key insertions and updates\n",
    "- Key membership checks"
   ]
  },
  {
   "cell_type": "markdown",
   "metadata": {},
   "source": [
    "Dictionaries are not optimized for:\n",
    "- By value lookups\n",
    "- By value insert operations"
   ]
  },
  {
   "cell_type": "markdown",
   "metadata": {},
   "source": [
    "Dictionaries support the following key operations/methods:\n",
    "- key value pair retrieval via .items() method\n",
    "- key and value retrievel via .keys() and .values() methods respectively"
   ]
  },
  {
   "cell_type": "markdown",
   "metadata": {},
   "source": [
    "## Dictionary examples"
   ]
  },
  {
   "cell_type": "code",
   "execution_count": 2,
   "metadata": {},
   "outputs": [
    {
     "name": "stdout",
     "output_type": "stream",
     "text": [
      "{1: 'hello', 'world': 3, 3: 'Tushar', 'last_name': 'Dahibhate'}\n"
     ]
    }
   ],
   "source": [
    "# Dictionary with heterogeneous keys\n",
    "\n",
    "dictionary1 = {1:\"hello\", \"world\":3, 3:\"Tushar\", \"last_name\": \"Dahibhate\"}\n",
    "print(dictionary1)"
   ]
  },
  {
   "cell_type": "code",
   "execution_count": 4,
   "metadata": {},
   "outputs": [
    {
     "name": "stdout",
     "output_type": "stream",
     "text": [
      "Dahibhate\n",
      "Tushar\n"
     ]
    }
   ],
   "source": [
    "# By key lookup of value\n",
    "\n",
    "print(dictionary1[\"last_name\"])\n",
    "\n",
    "print(dictionary1[3])"
   ]
  },
  {
   "cell_type": "code",
   "execution_count": 5,
   "metadata": {},
   "outputs": [
    {
     "name": "stdout",
     "output_type": "stream",
     "text": [
      "{1: 'hello', 'world': 3, 3: 'Tushar', 'last_name': 'Dahibhate', 'new_key': 'New Value'}\n"
     ]
    }
   ],
   "source": [
    "# Insertion by key\n",
    "\n",
    "key = \"new_key\"\n",
    "dictionary1[key] = \"New Value\"\n",
    "print(dictionary1)"
   ]
  },
  {
   "cell_type": "code",
   "execution_count": 6,
   "metadata": {},
   "outputs": [
    {
     "name": "stdout",
     "output_type": "stream",
     "text": [
      "dict_items([(1, 'hello'), ('world', 3), (3, 'Tushar'), ('last_name', 'Dahibhate'), ('new_key', 'New Value')])\n"
     ]
    }
   ],
   "source": [
    "# .items() returns a list of tuples\n",
    "\n",
    "print(dictionary1.items())"
   ]
  },
  {
   "cell_type": "code",
   "execution_count": 8,
   "metadata": {},
   "outputs": [
    {
     "name": "stdout",
     "output_type": "stream",
     "text": [
      "1 --> hello\n",
      "world --> 3\n",
      "3 --> Tushar\n",
      "last_name --> Dahibhate\n",
      "new_key --> New Value\n"
     ]
    }
   ],
   "source": [
    "# Retrieval of Key-Value pairs\n",
    "\n",
    "for key,value in dictionary1.items():\n",
    "    print(\"{} --> {}\".format(key,value))"
   ]
  },
  {
   "cell_type": "code",
   "execution_count": 9,
   "metadata": {},
   "outputs": [
    {
     "name": "stdout",
     "output_type": "stream",
     "text": [
      "1\n",
      "world\n",
      "3\n",
      "last_name\n",
      "new_key\n"
     ]
    }
   ],
   "source": [
    "# Retrieval of Keys\n",
    "\n",
    "for key in dictionary1.keys():\n",
    "    print(key)"
   ]
  },
  {
   "cell_type": "code",
   "execution_count": 10,
   "metadata": {},
   "outputs": [
    {
     "name": "stdout",
     "output_type": "stream",
     "text": [
      "hello\n",
      "3\n",
      "Tushar\n",
      "Dahibhate\n",
      "New Value\n"
     ]
    }
   ],
   "source": [
    "# Retrieval of Values\n",
    "\n",
    "for value in dictionary1.values():\n",
    "    print(value)"
   ]
  },
  {
   "cell_type": "code",
   "execution_count": 11,
   "metadata": {},
   "outputs": [
    {
     "data": {
      "text/plain": [
       "True"
      ]
     },
     "execution_count": 11,
     "metadata": {},
     "output_type": "execute_result"
    }
   ],
   "source": [
    "# Checking if a keu is in the dictionary or not:\n",
    "\n",
    "3 in dictionary1"
   ]
  },
  {
   "cell_type": "code",
   "execution_count": 13,
   "metadata": {},
   "outputs": [
    {
     "name": "stdout",
     "output_type": "stream",
     "text": [
      "hello\n",
      "None\n"
     ]
    }
   ],
   "source": [
    "# Get value for a key or return None\n",
    "\n",
    "print(dictionary1.get(1))\n",
    "\n",
    "print(dictionary1.get(4))\n"
   ]
  },
  {
   "cell_type": "code",
   "execution_count": 17,
   "metadata": {},
   "outputs": [
    {
     "data": {
      "text/plain": [
       "'Setting Default value'"
      ]
     },
     "execution_count": 17,
     "metadata": {},
     "output_type": "execute_result"
    }
   ],
   "source": [
    "# set default value if key is missing otherwose call .get()\n",
    "\n",
    "dictionary1.setdefault(4,\"Setting Default value\")"
   ]
  },
  {
   "cell_type": "code",
   "execution_count": 23,
   "metadata": {},
   "outputs": [],
   "source": [
    "#Returns the count of the values in a list\n",
    "\n",
    "d = [\"Tushar\",\"Tushar\",\"Tushar\",\"Tushar\",\"xyz\"]\n",
    "\n",
    "import collections; \n",
    "counts = collections.Counter(d)"
   ]
  },
  {
   "cell_type": "code",
   "execution_count": 24,
   "metadata": {},
   "outputs": [
    {
     "data": {
      "text/plain": [
       "Counter({'Tushar': 4, 'xyz': 1})"
      ]
     },
     "execution_count": 24,
     "metadata": {},
     "output_type": "execute_result"
    }
   ],
   "source": [
    "counts"
   ]
  },
  {
   "cell_type": "markdown",
   "metadata": {},
   "source": [
    "# Exercise1"
   ]
  },
  {
   "cell_type": "markdown",
   "metadata": {},
   "source": [
    "In this exercise, some of the ethos behind Python by Tim Peters are provided as a triple-quoted multi-line string:\n",
    "\n",
    "Use the .split() method for the string to create a list of words; apply other filtering methods (optional)\n",
    "Create a dictionary to hold the count for every word in the string in two different ways:\n",
    "Use collections.Counter() method\n",
    "Use .setdefault() method\n",
    "Print word-count pairs in reverse, alphabetically sorted order, using one of the methods\n",
    "Print the counts of the top-3 most frequent words reported by each method"
   ]
  },
  {
   "cell_type": "code",
   "execution_count": 25,
   "metadata": {},
   "outputs": [],
   "source": [
    "paragraph_str = \"\"\"\n",
    "Beautiful is better than ugly.\n",
    "Explicit is better than implicit.\n",
    "Simple is better than complex.\n",
    "Complex is better than complicated.\n",
    "Flat is better than nested.\n",
    "Sparse is better than dense.\n",
    "Readability counts.\n",
    "Special cases aren't special enough to break the rules.\n",
    "Although practicality beats purity.\n",
    "Errors should never pass silently.\n",
    "Unless explicitly silenced.\n",
    "In the face of ambiguity, refuse the temptation to guess.\n",
    "There should be one-- and preferably only one --obvious way to do it.\n",
    "Although that way may not be obvious at first unless you're Dutch.\n",
    "Now is better than never.\n",
    "Although never is often better than *right* now.\n",
    "If the implementation is hard to explain, it's a bad idea.\n",
    "If the implementation is easy to explain, it may be a good idea.\n",
    "Namespaces are one honking great idea -- let's do more of those!\n",
    "\"\"\""
   ]
  },
  {
   "cell_type": "code",
   "execution_count": 37,
   "metadata": {},
   "outputs": [],
   "source": [
    "# Solution\n",
    "\n",
    "\n",
    "list_of_words = paragraph_str.split()\n",
    "new_list = []\n",
    "\n",
    "for word in list_of_words:\n",
    "    word.replace('.','')\n",
    "    word.replace('\\n','')\n",
    "    word.replace('*','')\n",
    "    word.replace('!','')\n",
    "    word.replace(',','')\n",
    "    word.replace('--','')\n",
    "    word.replace('\\'','') \n",
    "    new_list.append(word)\n",
    "    "
   ]
  },
  {
   "cell_type": "code",
   "execution_count": 38,
   "metadata": {},
   "outputs": [
    {
     "data": {
      "text/plain": [
       "['Beautiful',\n",
       " 'is',\n",
       " 'better',\n",
       " 'than',\n",
       " 'ugly.',\n",
       " 'Explicit',\n",
       " 'is',\n",
       " 'better',\n",
       " 'than',\n",
       " 'implicit.',\n",
       " 'Simple',\n",
       " 'is',\n",
       " 'better',\n",
       " 'than',\n",
       " 'complex.',\n",
       " 'Complex',\n",
       " 'is',\n",
       " 'better',\n",
       " 'than',\n",
       " 'complicated.',\n",
       " 'Flat',\n",
       " 'is',\n",
       " 'better',\n",
       " 'than',\n",
       " 'nested.',\n",
       " 'Sparse',\n",
       " 'is',\n",
       " 'better',\n",
       " 'than',\n",
       " 'dense.',\n",
       " 'Readability',\n",
       " 'counts.',\n",
       " 'Special',\n",
       " 'cases',\n",
       " \"aren't\",\n",
       " 'special',\n",
       " 'enough',\n",
       " 'to',\n",
       " 'break',\n",
       " 'the',\n",
       " 'rules.',\n",
       " 'Although',\n",
       " 'practicality',\n",
       " 'beats',\n",
       " 'purity.',\n",
       " 'Errors',\n",
       " 'should',\n",
       " 'never',\n",
       " 'pass',\n",
       " 'silently.',\n",
       " 'Unless',\n",
       " 'explicitly',\n",
       " 'silenced.',\n",
       " 'In',\n",
       " 'the',\n",
       " 'face',\n",
       " 'of',\n",
       " 'ambiguity,',\n",
       " 'refuse',\n",
       " 'the',\n",
       " 'temptation',\n",
       " 'to',\n",
       " 'guess.',\n",
       " 'There',\n",
       " 'should',\n",
       " 'be',\n",
       " 'one--',\n",
       " 'and',\n",
       " 'preferably',\n",
       " 'only',\n",
       " 'one',\n",
       " '--obvious',\n",
       " 'way',\n",
       " 'to',\n",
       " 'do',\n",
       " 'it.',\n",
       " 'Although',\n",
       " 'that',\n",
       " 'way',\n",
       " 'may',\n",
       " 'not',\n",
       " 'be',\n",
       " 'obvious',\n",
       " 'at',\n",
       " 'first',\n",
       " 'unless',\n",
       " \"you're\",\n",
       " 'Dutch.',\n",
       " 'Now',\n",
       " 'is',\n",
       " 'better',\n",
       " 'than',\n",
       " 'never.',\n",
       " 'Although',\n",
       " 'never',\n",
       " 'is',\n",
       " 'often',\n",
       " 'better',\n",
       " 'than',\n",
       " '*right*',\n",
       " 'now.',\n",
       " 'If',\n",
       " 'the',\n",
       " 'implementation',\n",
       " 'is',\n",
       " 'hard',\n",
       " 'to',\n",
       " 'explain,',\n",
       " \"it's\",\n",
       " 'a',\n",
       " 'bad',\n",
       " 'idea.',\n",
       " 'If',\n",
       " 'the',\n",
       " 'implementation',\n",
       " 'is',\n",
       " 'easy',\n",
       " 'to',\n",
       " 'explain,',\n",
       " 'it',\n",
       " 'may',\n",
       " 'be',\n",
       " 'a',\n",
       " 'good',\n",
       " 'idea.',\n",
       " 'Namespaces',\n",
       " 'are',\n",
       " 'one',\n",
       " 'honking',\n",
       " 'great',\n",
       " 'idea',\n",
       " '--',\n",
       " \"let's\",\n",
       " 'do',\n",
       " 'more',\n",
       " 'of',\n",
       " 'those!']"
      ]
     },
     "execution_count": 38,
     "metadata": {},
     "output_type": "execute_result"
    }
   ],
   "source": [
    "new_list"
   ]
  },
  {
   "cell_type": "code",
   "execution_count": null,
   "metadata": {},
   "outputs": [],
   "source": []
  }
 ],
 "metadata": {
  "kernelspec": {
   "display_name": "Python 3",
   "language": "python",
   "name": "python3"
  },
  "language_info": {
   "codemirror_mode": {
    "name": "ipython",
    "version": 3
   },
   "file_extension": ".py",
   "mimetype": "text/x-python",
   "name": "python",
   "nbconvert_exporter": "python",
   "pygments_lexer": "ipython3",
   "version": "3.7.0"
  }
 },
 "nbformat": 4,
 "nbformat_minor": 2
}

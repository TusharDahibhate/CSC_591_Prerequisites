{
 "cells": [
  {
   "cell_type": "markdown",
   "metadata": {},
   "source": [
    "## Centering and Standardizing"
   ]
  },
  {
   "cell_type": "code",
   "execution_count": 3,
   "metadata": {},
   "outputs": [
    {
     "data": {
      "text/html": [
       "<ol class=list-inline>\n",
       "\t<li>2.1</li>\n",
       "\t<li>2.5</li>\n",
       "\t<li>4</li>\n",
       "\t<li>3.6</li>\n",
       "</ol>\n"
      ],
      "text/latex": [
       "\\begin{enumerate*}\n",
       "\\item 2.1\n",
       "\\item 2.5\n",
       "\\item 4\n",
       "\\item 3.6\n",
       "\\end{enumerate*}\n"
      ],
      "text/markdown": [
       "1. 2.1\n",
       "2. 2.5\n",
       "3. 4\n",
       "4. 3.6\n",
       "\n",
       "\n"
      ],
      "text/plain": [
       "[1] 2.1 2.5 4.0 3.6"
      ]
     },
     "metadata": {},
     "output_type": "display_data"
    },
    {
     "data": {
      "text/html": [
       "3.05"
      ],
      "text/latex": [
       "3.05"
      ],
      "text/markdown": [
       "3.05"
      ],
      "text/plain": [
       "[1] 3.05"
      ]
     },
     "metadata": {},
     "output_type": "display_data"
    }
   ],
   "source": [
    "# MEAN\n",
    "\n",
    "A = c(2.1, 2.5, 4.0, 3.6)\n",
    "A\n",
    "\n",
    "A_bar = mean(A)\n",
    "A_bar"
   ]
  },
  {
   "cell_type": "code",
   "execution_count": 14,
   "metadata": {},
   "outputs": [
    {
     "data": {
      "text/html": [
       "<ol class=list-inline>\n",
       "\t<li>2.1</li>\n",
       "\t<li>2.5</li>\n",
       "\t<li>4</li>\n",
       "\t<li>3.6</li>\n",
       "</ol>\n"
      ],
      "text/latex": [
       "\\begin{enumerate*}\n",
       "\\item 2.1\n",
       "\\item 2.5\n",
       "\\item 4\n",
       "\\item 3.6\n",
       "\\end{enumerate*}\n"
      ],
      "text/markdown": [
       "1. 2.1\n",
       "2. 2.5\n",
       "3. 4\n",
       "4. 3.6\n",
       "\n",
       "\n"
      ],
      "text/plain": [
       "[1] 2.1 2.5 4.0 3.6"
      ]
     },
     "metadata": {},
     "output_type": "display_data"
    },
    {
     "data": {
      "text/html": [
       "3.05"
      ],
      "text/latex": [
       "3.05"
      ],
      "text/markdown": [
       "3.05"
      ],
      "text/plain": [
       "[1] 3.05"
      ]
     },
     "metadata": {},
     "output_type": "display_data"
    },
    {
     "data": {
      "text/html": [
       "<ol class=list-inline>\n",
       "\t<li>-0.95</li>\n",
       "\t<li>-0.55</li>\n",
       "\t<li>0.95</li>\n",
       "\t<li>0.55</li>\n",
       "</ol>\n"
      ],
      "text/latex": [
       "\\begin{enumerate*}\n",
       "\\item -0.95\n",
       "\\item -0.55\n",
       "\\item 0.95\n",
       "\\item 0.55\n",
       "\\end{enumerate*}\n"
      ],
      "text/markdown": [
       "1. -0.95\n",
       "2. -0.55\n",
       "3. 0.95\n",
       "4. 0.55\n",
       "\n",
       "\n"
      ],
      "text/plain": [
       "[1] -0.95 -0.55  0.95  0.55"
      ]
     },
     "metadata": {},
     "output_type": "display_data"
    },
    {
     "data": {
      "text/html": [
       "2.22044604925031e-16"
      ],
      "text/latex": [
       "2.22044604925031e-16"
      ],
      "text/markdown": [
       "2.22044604925031e-16"
      ],
      "text/plain": [
       "[1] 2.220446e-16"
      ]
     },
     "metadata": {},
     "output_type": "display_data"
    }
   ],
   "source": [
    "# CENTERING\n",
    "\n",
    "A = c(2.1, 2.5, 4.0, 3.6)\n",
    "A\n",
    "\n",
    "A_bar = mean(A)\n",
    "A_bar\n",
    "\n",
    "A_centered = A - mean(A)\n",
    "A_centered\n",
    "\n",
    "mean(A_centered)"
   ]
  },
  {
   "cell_type": "code",
   "execution_count": 23,
   "metadata": {},
   "outputs": [
    {
     "data": {
      "text/html": [
       "<ol class=list-inline>\n",
       "\t<li>2.1</li>\n",
       "\t<li>2.5</li>\n",
       "\t<li>4</li>\n",
       "\t<li>3.6</li>\n",
       "</ol>\n"
      ],
      "text/latex": [
       "\\begin{enumerate*}\n",
       "\\item 2.1\n",
       "\\item 2.5\n",
       "\\item 4\n",
       "\\item 3.6\n",
       "\\end{enumerate*}\n"
      ],
      "text/markdown": [
       "1. 2.1\n",
       "2. 2.5\n",
       "3. 4\n",
       "4. 3.6\n",
       "\n",
       "\n"
      ],
      "text/plain": [
       "[1] 2.1 2.5 4.0 3.6"
      ]
     },
     "metadata": {},
     "output_type": "display_data"
    },
    {
     "data": {
      "text/html": [
       "0.803333333333333"
      ],
      "text/latex": [
       "0.803333333333333"
      ],
      "text/markdown": [
       "0.803333333333333"
      ],
      "text/plain": [
       "[1] 0.8033333"
      ]
     },
     "metadata": {},
     "output_type": "display_data"
    },
    {
     "data": {
      "text/html": [
       "0.89628864398325"
      ],
      "text/latex": [
       "0.89628864398325"
      ],
      "text/markdown": [
       "0.89628864398325"
      ],
      "text/plain": [
       "[1] 0.8962886"
      ]
     },
     "metadata": {},
     "output_type": "display_data"
    },
    {
     "data": {
      "text/html": [
       "<ol class=list-inline>\n",
       "\t<li>2.34299521041265</li>\n",
       "\t<li>2.78928001239601</li>\n",
       "\t<li>4.46284801983361</li>\n",
       "\t<li>4.01656321785025</li>\n",
       "</ol>\n"
      ],
      "text/latex": [
       "\\begin{enumerate*}\n",
       "\\item 2.34299521041265\n",
       "\\item 2.78928001239601\n",
       "\\item 4.46284801983361\n",
       "\\item 4.01656321785025\n",
       "\\end{enumerate*}\n"
      ],
      "text/markdown": [
       "1. 2.34299521041265\n",
       "2. 2.78928001239601\n",
       "3. 4.46284801983361\n",
       "4. 4.01656321785025\n",
       "\n",
       "\n"
      ],
      "text/plain": [
       "[1] 2.342995 2.789280 4.462848 4.016563"
      ]
     },
     "metadata": {},
     "output_type": "display_data"
    },
    {
     "data": {
      "text/html": [
       "3.05"
      ],
      "text/latex": [
       "3.05"
      ],
      "text/markdown": [
       "3.05"
      ],
      "text/plain": [
       "[1] 3.05"
      ]
     },
     "metadata": {},
     "output_type": "display_data"
    },
    {
     "data": {
      "text/html": [
       "<ol class=list-inline>\n",
       "\t<li>-0.95</li>\n",
       "\t<li>-0.55</li>\n",
       "\t<li>0.95</li>\n",
       "\t<li>0.55</li>\n",
       "</ol>\n"
      ],
      "text/latex": [
       "\\begin{enumerate*}\n",
       "\\item -0.95\n",
       "\\item -0.55\n",
       "\\item 0.95\n",
       "\\item 0.55\n",
       "\\end{enumerate*}\n"
      ],
      "text/markdown": [
       "1. -0.95\n",
       "2. -0.55\n",
       "3. 0.95\n",
       "4. 0.55\n",
       "\n",
       "\n"
      ],
      "text/plain": [
       "[1] -0.95 -0.55  0.95  0.55"
      ]
     },
     "metadata": {},
     "output_type": "display_data"
    },
    {
     "data": {
      "text/html": [
       "<ol class=list-inline>\n",
       "\t<li>-1.05992640471048</li>\n",
       "\t<li>-0.613641602727121</li>\n",
       "\t<li>1.05992640471048</li>\n",
       "\t<li>0.613641602727122</li>\n",
       "</ol>\n"
      ],
      "text/latex": [
       "\\begin{enumerate*}\n",
       "\\item -1.05992640471048\n",
       "\\item -0.613641602727121\n",
       "\\item 1.05992640471048\n",
       "\\item 0.613641602727122\n",
       "\\end{enumerate*}\n"
      ],
      "text/markdown": [
       "1. -1.05992640471048\n",
       "2. -0.613641602727121\n",
       "3. 1.05992640471048\n",
       "4. 0.613641602727122\n",
       "\n",
       "\n"
      ],
      "text/plain": [
       "[1] -1.0599264 -0.6136416  1.0599264  0.6136416"
      ]
     },
     "metadata": {},
     "output_type": "display_data"
    }
   ],
   "source": [
    "#STANDARDIZING\n",
    "\n",
    "A = c(2.1, 2.5, 4.0, 3.6)\n",
    "A\n",
    "\n",
    "variance = var(A)\n",
    "variance\n",
    "\n",
    "standard_deviation = sd(A)\n",
    "standard_deviation\n",
    "\n",
    "A_standardized = A/standard_deviation\n",
    "A_standardized\n",
    "\n",
    "A_mean = mean(A)\n",
    "A_mean\n",
    "\n",
    "A_centered = A - A_mean\n",
    "A_centered\n",
    "\n",
    "Z_score = A_centered/standard_deviation\n",
    "Z_score"
   ]
  },
  {
   "cell_type": "markdown",
   "metadata": {},
   "source": [
    "## Co- variance"
   ]
  },
  {
   "cell_type": "code",
   "execution_count": 41,
   "metadata": {},
   "outputs": [
    {
     "data": {
      "text/html": [
       "1.53333333333333"
      ],
      "text/latex": [
       "1.53333333333333"
      ],
      "text/markdown": [
       "1.53333333333333"
      ],
      "text/plain": [
       "[1] 1.533333"
      ]
     },
     "metadata": {},
     "output_type": "display_data"
    },
    {
     "data": {
      "text/html": [
       "1.53333333333333"
      ],
      "text/latex": [
       "1.53333333333333"
      ],
      "text/markdown": [
       "1.53333333333333"
      ],
      "text/plain": [
       "[1] 1.533333"
      ]
     },
     "metadata": {},
     "output_type": "display_data"
    }
   ],
   "source": [
    "x = c(2.1, 2.5, 4.0, 3.6)\n",
    "y = c(8, 12, 14, 10)\n",
    "\n",
    "\n",
    "x_mean = mean(x)\n",
    "y_mean = mean(y)\n",
    "\n",
    "n = length(x)\n",
    "\n",
    "x_c = x - x_mean\n",
    "y_c = y - y_mean\n",
    "\n",
    "covariance = sum(x_c * y_c)/(n-1)\n",
    "covariance\n",
    "\n",
    "#Direct formula\n",
    "covariance1 = cov(x,y)\n",
    "covariance1"
   ]
  },
  {
   "cell_type": "markdown",
   "metadata": {},
   "source": [
    "## Co-relation"
   ]
  },
  {
   "cell_type": "code",
   "execution_count": 44,
   "metadata": {},
   "outputs": [
    {
     "data": {
      "text/html": [
       "<ol class=list-inline>\n",
       "\t<li>1</li>\n",
       "\t<li>2</li>\n",
       "\t<li>3</li>\n",
       "\t<li>4</li>\n",
       "\t<li>5</li>\n",
       "\t<li>6</li>\n",
       "\t<li>7</li>\n",
       "\t<li>8</li>\n",
       "\t<li>9</li>\n",
       "\t<li>10</li>\n",
       "</ol>\n"
      ],
      "text/latex": [
       "\\begin{enumerate*}\n",
       "\\item 1\n",
       "\\item 2\n",
       "\\item 3\n",
       "\\item 4\n",
       "\\item 5\n",
       "\\item 6\n",
       "\\item 7\n",
       "\\item 8\n",
       "\\item 9\n",
       "\\item 10\n",
       "\\end{enumerate*}\n"
      ],
      "text/markdown": [
       "1. 1\n",
       "2. 2\n",
       "3. 3\n",
       "4. 4\n",
       "5. 5\n",
       "6. 6\n",
       "7. 7\n",
       "8. 8\n",
       "9. 9\n",
       "10. 10\n",
       "\n",
       "\n"
      ],
      "text/plain": [
       " [1]  1  2  3  4  5  6  7  8  9 10"
      ]
     },
     "metadata": {},
     "output_type": "display_data"
    },
    {
     "data": {
      "text/html": [
       "<ol class=list-inline>\n",
       "\t<li>3</li>\n",
       "\t<li>4</li>\n",
       "\t<li>5</li>\n",
       "\t<li>6</li>\n",
       "\t<li>7</li>\n",
       "\t<li>8</li>\n",
       "\t<li>9</li>\n",
       "\t<li>10</li>\n",
       "\t<li>11</li>\n",
       "\t<li>12</li>\n",
       "</ol>\n"
      ],
      "text/latex": [
       "\\begin{enumerate*}\n",
       "\\item 3\n",
       "\\item 4\n",
       "\\item 5\n",
       "\\item 6\n",
       "\\item 7\n",
       "\\item 8\n",
       "\\item 9\n",
       "\\item 10\n",
       "\\item 11\n",
       "\\item 12\n",
       "\\end{enumerate*}\n"
      ],
      "text/markdown": [
       "1. 3\n",
       "2. 4\n",
       "3. 5\n",
       "4. 6\n",
       "5. 7\n",
       "6. 8\n",
       "7. 9\n",
       "8. 10\n",
       "9. 11\n",
       "10. 12\n",
       "\n",
       "\n"
      ],
      "text/plain": [
       " [1]  3  4  5  6  7  8  9 10 11 12"
      ]
     },
     "metadata": {},
     "output_type": "display_data"
    },
    {
     "data": {
      "text/html": [
       "<ol class=list-inline>\n",
       "\t<li>12</li>\n",
       "\t<li>11</li>\n",
       "\t<li>10</li>\n",
       "\t<li>9</li>\n",
       "\t<li>8</li>\n",
       "\t<li>7</li>\n",
       "\t<li>6</li>\n",
       "\t<li>5</li>\n",
       "\t<li>4</li>\n",
       "\t<li>3</li>\n",
       "</ol>\n"
      ],
      "text/latex": [
       "\\begin{enumerate*}\n",
       "\\item 12\n",
       "\\item 11\n",
       "\\item 10\n",
       "\\item 9\n",
       "\\item 8\n",
       "\\item 7\n",
       "\\item 6\n",
       "\\item 5\n",
       "\\item 4\n",
       "\\item 3\n",
       "\\end{enumerate*}\n"
      ],
      "text/markdown": [
       "1. 12\n",
       "2. 11\n",
       "3. 10\n",
       "4. 9\n",
       "5. 8\n",
       "6. 7\n",
       "7. 6\n",
       "8. 5\n",
       "9. 4\n",
       "10. 3\n",
       "\n",
       "\n"
      ],
      "text/plain": [
       " [1] 12 11 10  9  8  7  6  5  4  3"
      ]
     },
     "metadata": {},
     "output_type": "display_data"
    }
   ],
   "source": [
    "x = c(1:10)\n",
    "blue = c(1:10)\n",
    "red = c(3:12)\n",
    "purple = sort(red, decreasing = TRUE)\n",
    "\n",
    "blue\n",
    "red\n",
    "purple"
   ]
  },
  {
   "cell_type": "code",
   "execution_count": 54,
   "metadata": {},
   "outputs": [
    {
     "data": {
      "text/html": [
       "<ol class=list-inline>\n",
       "\t<li>5.67193088369506</li>\n",
       "\t<li>4.7776697149244</li>\n",
       "\t<li>4.83773783699217</li>\n",
       "\t<li>4.69389814126988</li>\n",
       "\t<li>5.15340009065184</li>\n",
       "\t<li>5.68665038779481</li>\n",
       "\t<li>3.19920430607422</li>\n",
       "\t<li>4.6037817727892</li>\n",
       "\t<li>5.0611088346493</li>\n",
       "\t<li>5.52098888113689</li>\n",
       "</ol>\n"
      ],
      "text/latex": [
       "\\begin{enumerate*}\n",
       "\\item 5.67193088369506\n",
       "\\item 4.7776697149244\n",
       "\\item 4.83773783699217\n",
       "\\item 4.69389814126988\n",
       "\\item 5.15340009065184\n",
       "\\item 5.68665038779481\n",
       "\\item 3.19920430607422\n",
       "\\item 4.6037817727892\n",
       "\\item 5.0611088346493\n",
       "\\item 5.52098888113689\n",
       "\\end{enumerate*}\n"
      ],
      "text/markdown": [
       "1. 5.67193088369506\n",
       "2. 4.7776697149244\n",
       "3. 4.83773783699217\n",
       "4. 4.69389814126988\n",
       "5. 5.15340009065184\n",
       "6. 5.68665038779481\n",
       "7. 3.19920430607422\n",
       "8. 4.6037817727892\n",
       "9. 5.0611088346493\n",
       "10. 5.52098888113689\n",
       "\n",
       "\n"
      ],
      "text/plain": [
       " [1] 5.671931 4.777670 4.837738 4.693898 5.153400 5.686650 3.199204 4.603782\n",
       " [9] 5.061109 5.520989"
      ]
     },
     "metadata": {},
     "output_type": "display_data"
    },
    {
     "data": {
      "image/png": "[encoded data removed]",
      "text/plain": [
       "plot without title"
      ]
     },
     "metadata": {},
     "output_type": "display_data"
    }
   ],
   "source": [
    "plot(x, blue, col=\"blue\", pch=19)\n",
    "points(red, col=\"red\", pch=19)\n",
    "points(purple, col=\"purple\", pch=19)\n",
    "\n",
    "noise = abs(rnorm(10,mean = 5))\n",
    "noise\n",
    "\n",
    "points(noise, col=\"grey\", pch = 19)"
   ]
  },
  {
   "cell_type": "code",
   "execution_count": null,
   "metadata": {},
   "outputs": [],
   "source": []
  },
  {
   "cell_type": "code",
   "execution_count": 55,
   "metadata": {},
   "outputs": [
    {
     "data": {
      "text/html": [
       "-0.113798200005658"
      ],
      "text/latex": [
       "-0.113798200005658"
      ],
      "text/markdown": [
       "-0.113798200005658"
      ],
      "text/plain": [
       "[1] -0.1137982"
      ]
     },
     "metadata": {},
     "output_type": "display_data"
    }
   ],
   "source": [
    "cor(blue, noise)"
   ]
  },
  {
   "cell_type": "markdown",
   "metadata": {},
   "source": [
    "## Exercise"
   ]
  },
  {
   "cell_type": "code",
   "execution_count": 61,
   "metadata": {},
   "outputs": [
    {
     "data": {
      "text/html": [
       "<ol class=list-inline>\n",
       "\t<li>0.0600000000000001</li>\n",
       "\t<li>0.26</li>\n",
       "\t<li>-0.34</li>\n",
       "\t<li>0.16</li>\n",
       "\t<li>-0.14</li>\n",
       "</ol>\n"
      ],
      "text/latex": [
       "\\begin{enumerate*}\n",
       "\\item 0.0600000000000001\n",
       "\\item 0.26\n",
       "\\item -0.34\n",
       "\\item 0.16\n",
       "\\item -0.14\n",
       "\\end{enumerate*}\n"
      ],
      "text/markdown": [
       "1. 0.0600000000000001\n",
       "2. 0.26\n",
       "3. -0.34\n",
       "4. 0.16\n",
       "5. -0.14\n",
       "\n",
       "\n"
      ],
      "text/plain": [
       "[1]  0.06  0.26 -0.34  0.16 -0.14"
      ]
     },
     "metadata": {},
     "output_type": "display_data"
    },
    {
     "data": {
      "text/html": [
       "<ol class=list-inline>\n",
       "\t<li>-0.72</li>\n",
       "\t<li>2.98</li>\n",
       "\t<li>-1.22</li>\n",
       "\t<li>-0.12</li>\n",
       "\t<li>-0.92</li>\n",
       "</ol>\n"
      ],
      "text/latex": [
       "\\begin{enumerate*}\n",
       "\\item -0.72\n",
       "\\item 2.98\n",
       "\\item -1.22\n",
       "\\item -0.12\n",
       "\\item -0.92\n",
       "\\end{enumerate*}\n"
      ],
      "text/markdown": [
       "1. -0.72\n",
       "2. 2.98\n",
       "3. -1.22\n",
       "4. -0.12\n",
       "5. -0.92\n",
       "\n",
       "\n"
      ],
      "text/plain": [
       "[1] -0.72  2.98 -1.22 -0.12 -0.92"
      ]
     },
     "metadata": {},
     "output_type": "display_data"
    },
    {
     "data": {
      "text/html": [
       "0.314"
      ],
      "text/latex": [
       "0.314"
      ],
      "text/markdown": [
       "0.314"
      ],
      "text/plain": [
       "[1] 0.314"
      ]
     },
     "metadata": {},
     "output_type": "display_data"
    },
    {
     "data": {
      "text/html": [
       "0.240831891575846"
      ],
      "text/latex": [
       "0.240831891575846"
      ],
      "text/markdown": [
       "0.240831891575846"
      ],
      "text/plain": [
       "[1] 0.2408319"
      ]
     },
     "metadata": {},
     "output_type": "display_data"
    },
    {
     "data": {
      "text/html": [
       "1.71376777890121"
      ],
      "text/latex": [
       "1.71376777890121"
      ],
      "text/markdown": [
       "1.71376777890121"
      ],
      "text/plain": [
       "[1] 1.713768"
      ]
     },
     "metadata": {},
     "output_type": "display_data"
    },
    {
     "data": {
      "text/html": [
       "0.760788042438084"
      ],
      "text/latex": [
       "0.760788042438084"
      ],
      "text/markdown": [
       "0.760788042438084"
      ],
      "text/plain": [
       "[1] 0.760788"
      ]
     },
     "metadata": {},
     "output_type": "display_data"
    }
   ],
   "source": [
    "x = c(2.3, 2.5, 1.9, 2.4, 2.1)\n",
    "y = c(1.3, 5.0, 0.8, 1.9, 1.1)\n",
    "\n",
    "x_c = x - mean(x)\n",
    "x_c\n",
    "\n",
    "y_c = y - mean(y)\n",
    "y_c\n",
    "\n",
    "n = length(x)\n",
    "\n",
    "covariance = sum(x_c * y_c)/(n - 1)\n",
    "covariance\n",
    "\n",
    "x_sd = sd(x)\n",
    "x_sd\n",
    "\n",
    "y_sd = sd(y)\n",
    "y_sd\n",
    "\n",
    "correlation = covariance/(x_sd * y_sd)\n",
    "correlation"
   ]
  },
  {
   "cell_type": "code",
   "execution_count": null,
   "metadata": {},
   "outputs": [],
   "source": []
  }
 ],
 "metadata": {
  "kernelspec": {
   "display_name": "R",
   "language": "R",
   "name": "ir"
  },
  "language_info": {
   "codemirror_mode": "r",
   "file_extension": ".r",
   "mimetype": "text/x-r-source",
   "name": "R",
   "pygments_lexer": "r",
   "version": "3.5.1"
  }
 },
 "nbformat": 4,
 "nbformat_minor": 2
}

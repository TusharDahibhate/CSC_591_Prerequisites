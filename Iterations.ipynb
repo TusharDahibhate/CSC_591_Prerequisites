{
 "cells": [
  {
   "cell_type": "markdown",
   "metadata": {},
   "source": [
    "# Iterations- For, while "
   ]
  },
  {
   "cell_type": "markdown",
   "metadata": {},
   "source": [
    "We use looping constructs like for and while to execute a block of code repetitively.<br>\n",
    "Two main types of applications:\n",
    "- The number of iterations is known beforehand\n",
    "- The number of iterations is not known before the looping starts"
   ]
  },
  {
   "cell_type": "markdown",
   "metadata": {},
   "source": [
    "For Loops- To loop over the items of a container type data structure such as string, list, dictionary, tuple or set. The maximum number of iterations is known beforehand."
   ]
  },
  {
   "cell_type": "markdown",
   "metadata": {},
   "source": [
    "While Loops- To loop over a block of code while a given condition holds True. "
   ]
  },
  {
   "cell_type": "markdown",
   "metadata": {},
   "source": [
    "# For loops"
   ]
  },
  {
   "cell_type": "markdown",
   "metadata": {},
   "source": [
    "Looping can be performed in 3 different ways on 2 different types of data structures: \n",
    "- Sequence type(string,tuple,list)\n",
    "- Non sequence(set,dictionary)"
   ]
  },
  {
   "cell_type": "code",
   "execution_count": 9,
   "metadata": {},
   "outputs": [
    {
     "name": "stdout",
     "output_type": "stream",
     "text": [
      "1\n",
      "2\n",
      "3\n",
      "4\n",
      "5\n",
      "6\n",
      "7\n"
     ]
    }
   ],
   "source": [
    "# Looping with an item- Works for both\n",
    "\n",
    "container = [1,2,3,4,5,6,7]\n",
    "\n",
    "for item in container:\n",
    "    print(item)"
   ]
  },
  {
   "cell_type": "code",
   "execution_count": 10,
   "metadata": {},
   "outputs": [
    {
     "name": "stdout",
     "output_type": "stream",
     "text": [
      "0-->1\n",
      "1-->2\n",
      "2-->3\n",
      "3-->4\n",
      "4-->5\n",
      "5-->6\n",
      "6-->7\n"
     ]
    }
   ],
   "source": [
    "# Looping with an index, item pair with enumerate() - Only Sequence Type\n",
    "\n",
    "container = [1,2,3,4,5,6,7]\n",
    "\n",
    "for index,item in enumerate(container):\n",
    "    print(\"{}-->{}\".format(index,item))"
   ]
  },
  {
   "cell_type": "code",
   "execution_count": 11,
   "metadata": {},
   "outputs": [
    {
     "name": "stdout",
     "output_type": "stream",
     "text": [
      "1\n",
      "2\n",
      "3\n",
      "4\n",
      "5\n",
      "6\n",
      "7\n"
     ]
    }
   ],
   "source": [
    "# Looping with an index - Only Sequence type\n",
    "\n",
    "container = [1,2,3,4,5,6,7]\n",
    "\n",
    "start_index = 0\n",
    "end_index = len(container)\n",
    "\n",
    "for index in range(start_index,end_index):\n",
    "    print(container[index])"
   ]
  },
  {
   "cell_type": "markdown",
   "metadata": {},
   "source": [
    "## range() function"
   ]
  },
  {
   "cell_type": "markdown",
   "metadata": {},
   "source": [
    "range() has 3 forms:\n",
    "- range(x) will generate x distinct values from 0 to x-1 incrementing by 1\n",
    "- range(x,y) will generate y-x dictinct values from x to y-1 incrementing by 1\n",
    "- range(x,y,z) will generate values from x to z-1 incrementing by amount z"
   ]
  },
  {
   "cell_type": "code",
   "execution_count": 12,
   "metadata": {},
   "outputs": [
    {
     "name": "stdout",
     "output_type": "stream",
     "text": [
      "0-->1\n",
      "3-->4\n"
     ]
    }
   ],
   "source": [
    "container = [1,2,3,4,5,6,7]\n",
    "\n",
    "for i in range(0,5,3) :\n",
    "    print(\"{}-->{}\".format(i,container[i]))"
   ]
  },
  {
   "cell_type": "markdown",
   "metadata": {},
   "source": [
    "## in operator"
   ]
  },
  {
   "cell_type": "markdown",
   "metadata": {},
   "source": [
    "in operator checks the membership\n",
    "- Returns True if the item is a part of the container\n",
    "- Retuns False if the item is not a part"
   ]
  },
  {
   "cell_type": "code",
   "execution_count": 15,
   "metadata": {},
   "outputs": [
    {
     "name": "stdout",
     "output_type": "stream",
     "text": [
      "True\n",
      "False\n"
     ]
    }
   ],
   "source": [
    "container = [1,2,3,4,5,6,7]\n",
    "print(7 in container)\n",
    "print(9 in container)"
   ]
  },
  {
   "cell_type": "markdown",
   "metadata": {},
   "source": [
    "# While loops"
   ]
  },
  {
   "cell_type": "markdown",
   "metadata": {},
   "source": [
    "While loop is used when we do not know the number of iterations beforehand and we need indefinite iterations i.e.\n",
    "- When the upper bound on the number of iterations is not known or cannot be calculated before entering the loop\n",
    "- when the block of code must be executed indefinitely.\n",
    "\n",
    "### Note - while loop will execute indefinitely if there is not a single variable that will lead to a termination condition"
   ]
  },
  {
   "cell_type": "code",
   "execution_count": 18,
   "metadata": {},
   "outputs": [
    {
     "name": "stdout",
     "output_type": "stream",
     "text": [
      "1\n",
      "2\n",
      "3\n",
      "4\n"
     ]
    }
   ],
   "source": [
    "x = 1\n",
    "while x != 5:\n",
    "    print(x)\n",
    "    x += 1"
   ]
  },
  {
   "cell_type": "code",
   "execution_count": 22,
   "metadata": {},
   "outputs": [
    {
     "name": "stdout",
     "output_type": "stream",
     "text": [
      "Enter your name or type 'Exit' or 'Quit' Exit\n",
      "You entered:Exit\n"
     ]
    }
   ],
   "source": [
    "input_string = ''\n",
    "\n",
    "while input_string != 'Exit' and input_string != 'Quit':\n",
    "    input_string = input('Enter your name or type \\'Exit\\' or \\'Quit\\' ')\n",
    "    print('You entered:' + input_string)"
   ]
  },
  {
   "cell_type": "code",
   "execution_count": 23,
   "metadata": {},
   "outputs": [
    {
     "name": "stdout",
     "output_type": "stream",
     "text": [
      "5 4\n",
      "9 7\n",
      "16 10\n",
      "Done.\n"
     ]
    }
   ],
   "source": [
    "x = 4\n",
    "y = 1\n",
    "while x <= 11:\n",
    "    x = x + y\n",
    "    y = y + 3\n",
    "    print(x, y)\n",
    "print ('Done.')"
   ]
  },
  {
   "cell_type": "markdown",
   "metadata": {},
   "source": [
    "### break"
   ]
  },
  {
   "cell_type": "markdown",
   "metadata": {},
   "source": [
    "To break out of the loop early, break keyword is used"
   ]
  },
  {
   "cell_type": "code",
   "execution_count": 27,
   "metadata": {},
   "outputs": [
    {
     "name": "stdout",
     "output_type": "stream",
     "text": [
      "Enter your name or type 'Exit' or 'Quit' Tushar\n",
      "hello Tushar\n",
      "Enter your name or type 'Exit' or 'Quit' Quit\n"
     ]
    }
   ],
   "source": [
    "input_string = ''\n",
    "\n",
    "while input_string != 'Exit' and input_string != 'Quit':\n",
    "    input_string = input('Enter your name or type \\'Exit\\' or \\'Quit\\' ')\n",
    "    \n",
    "    if input_string != 'Quit' and input_string != 'Exit':\n",
    "        print(\"hello \" + input_string)\n",
    "    else:\n",
    "        break\n",
    "            "
   ]
  },
  {
   "cell_type": "markdown",
   "metadata": {},
   "source": [
    "### continue"
   ]
  },
  {
   "cell_type": "markdown",
   "metadata": {},
   "source": [
    "Sometimes we might want to continue the iteration without executing the block of code in the loop for a particular condition. In that case we can use the continue keyword to skip the block of code and move on to the next iteration."
   ]
  },
  {
   "cell_type": "code",
   "execution_count": 28,
   "metadata": {},
   "outputs": [
    {
     "name": "stdout",
     "output_type": "stream",
     "text": [
      "Enter your name or a comment starting with # or Done#xya\n",
      "Found a comment\n",
      "Enter your name or a comment starting with # or DoneTushar\n",
      "Hello Tushar\n",
      "Enter your name or a comment starting with # or DoneDone\n"
     ]
    }
   ],
   "source": [
    "input_string = ''\n",
    "\n",
    "while True:\n",
    "    input_string = input('Enter your name or a comment starting with # or Done')\n",
    "    \n",
    "    if input_string.startswith('#'):\n",
    "        print('Found a comment')\n",
    "        continue\n",
    "    elif input_string == 'Done':\n",
    "        break\n",
    "    else:\n",
    "        print(\"Hello \" + input_string)\n",
    "    \n",
    "        \n",
    "    "
   ]
  },
  {
   "cell_type": "markdown",
   "metadata": {},
   "source": [
    "## else clause"
   ]
  },
  {
   "cell_type": "markdown",
   "metadata": {},
   "source": [
    "Both a for-loop and a while-loop can have an else clause. Any code in an else block will execute if the loop did not hit a break statement"
   ]
  },
  {
   "cell_type": "code",
   "execution_count": 31,
   "metadata": {},
   "outputs": [
    {
     "name": "stdout",
     "output_type": "stream",
     "text": [
      "Still positive\n"
     ]
    }
   ],
   "source": [
    "container = [1,2,3,4,5,6,7]\n",
    "\n",
    "for num in container:\n",
    "    if num < 0:\n",
    "        print(\"found a negative number\")\n",
    "        break\n",
    "else:    \n",
    "    print(\"Still positive\")\n",
    "    "
   ]
  },
  {
   "cell_type": "code",
   "execution_count": null,
   "metadata": {},
   "outputs": [],
   "source": []
  }
 ],
 "metadata": {
  "kernelspec": {
   "display_name": "Python 3",
   "language": "python",
   "name": "python3"
  },
  "language_info": {
   "codemirror_mode": {
    "name": "ipython",
    "version": 3
   },
   "file_extension": ".py",
   "mimetype": "text/x-python",
   "name": "python",
   "nbconvert_exporter": "python",
   "pygments_lexer": "ipython3",
   "version": "3.7.0"
  }
 },
 "nbformat": 4,
 "nbformat_minor": 2
}
